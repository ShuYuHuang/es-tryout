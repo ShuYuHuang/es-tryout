{
 "cells": [
  {
   "cell_type": "code",
   "execution_count": 6,
   "metadata": {},
   "outputs": [
    {
     "name": "stdout",
     "output_type": "stream",
     "text": [
      "\n",
      "\n",
      "\n",
      "\n",
      "\n",
      "\n",
      "```\n",
      "print(\"Hello World\")\n",
      "```\n",
      "\n",
      "\n",
      "```\n"
     ]
    }
   ],
   "source": [
    "import requests\n",
    "VICUNA_URL = 'http://10.100.100.104:8013/v1/completions'\n",
    "VICUNA_HEADER = {\n",
    "    'accept': 'application/json',\n",
    "    'Content-Type': 'application/json'\n",
    "}\n",
    "prompt = 'Write me a python script that print \"Hello World\"'\n",
    "json_data = {\n",
    "            \"model\": \"vicuna-13b-v1.5-16k\",\n",
    "            \"max_tokens\": 256,\n",
    "            'prompt': prompt,\n",
    "            \"temperature\": 0.0,\n",
    "            \"frequency_penalty\": 0.0,\n",
    "            \"presence_penalty\": 0.0,\n",
    "        }\n",
    "\n",
    "response = requests.post(\n",
    "            VICUNA_URL,\n",
    "            headers=VICUNA_HEADER,\n",
    "            json=json_data)\n",
    "print (response.json()['choices'][0]['text'])"
   ]
  },
  {
   "cell_type": "code",
   "execution_count": 4,
   "metadata": {},
   "outputs": [
    {
     "data": {
      "text/plain": [
       "{'model': 'vicuna-13b-v1.5-16k',\n",
       " 'max_tokens': 256,\n",
       " 'prompt': 'Write me a python script that print \"Hello World\"',\n",
       " 'temperature': 0.0,\n",
       " 'frequency_penalty': 0.0,\n",
       " 'presence_penalty': 0.0}"
      ]
     },
     "execution_count": 4,
     "metadata": {},
     "output_type": "execute_result"
    }
   ],
   "source": [
    "json_data"
   ]
  },
  {
   "cell_type": "code",
   "execution_count": 25,
   "metadata": {},
   "outputs": [],
   "source": [
    "from langchain.llms.base import LLM\n",
    "from typing import Optional, List, Dict, Mapping, Any\n",
    "import requests\n",
    "from pydantic import Field\n",
    "\n",
    "import pdb\n",
    "# import os\n",
    "# os.environ['CURL_CA_BUNDLE'] = ''\n",
    "\n",
    "VICUNA_URL = 'http://10.100.100.104:8013/v1/completions'\n",
    "VICUNA_HEADER = {\n",
    "    'accept': 'application/json',\n",
    "    'Content-Type': 'application/json'\n",
    "}\n",
    "\n",
    "# messages_template = [\n",
    "#     {\n",
    "#       \"content\": \"You are a helpful assistant.\",\n",
    "#       \"role\": \"system\"\n",
    "#     },\n",
    "#     {\n",
    "#       \"content\": \"What is the capital of France?\",\n",
    "#       \"role\": \"user\"\n",
    "#     }\n",
    "#   ]\n",
    "\n",
    "\n",
    "class VicunaLLM(LLM):\n",
    "    model_name: str = Field(None, alias='model_name')\n",
    "    model_url: str = Field(None, alias='model_url')\n",
    "    \n",
    "    temperature: str = Field(None, alias='temperature')\n",
    "\n",
    "    max_tokens: str = Field(None, alias='max_tokens')\n",
    "    \"\"\"The maximum number of tokens to generate in the completion.\n",
    "    -1 returns as many tokens as possible given the prompt and\n",
    "    the models maximal context size.\"\"\"\n",
    "    frequency_penalty: float = 0.0\n",
    "    \"\"\"Penalizes repeated tokens according to frequency.\"\"\"\n",
    "    presence_penalty: float = 0.0\n",
    "    \"\"\"Penalizes repeated tokens.\"\"\"\n",
    "\n",
    "    @property\n",
    "    def _llm_type(self) -> str:\n",
    "        return \"vicuna\"\n",
    "    \n",
    "    def __init__(\n",
    "            self,\n",
    "            model_name: str = \"vicuna-13b-v1.5-16k\",\n",
    "            model_url: str = VICUNA_URL,\n",
    "            max_tokens: int = 256,\n",
    "            temperature: int = 0.0):\n",
    "        super().__init__()\n",
    "        self.model_name = model_name\n",
    "        self.model_url  = model_url\n",
    "        \"\"\"What sampling temperature to use.\"\"\"\n",
    "        self.max_tokens = max_tokens\n",
    "        self.temperature = temperature\n",
    "    @property\n",
    "    def _get_model_default_parameters(self):\n",
    "        return {\n",
    "            \"model\": self.model_name,\n",
    "            \"max_tokens\": self.max_tokens,\n",
    "            \"temperature\": self.temperature,\n",
    "            \"frequency_penalty\": self.frequency_penalty,\n",
    "            \"presence_penalty\": self.presence_penalty,\n",
    "        }\n",
    "    \n",
    "    @property\n",
    "    def _identifying_params(self) -> Mapping[str, Any]:\n",
    "        \"\"\"\n",
    "        Get all the identifying parameters\n",
    "        \"\"\"\n",
    "        return {\n",
    "            # 'model_path' : self.model_folder_path,\n",
    "            'model_parameters': self._get_model_default_parameters\n",
    "        }\n",
    "\n",
    "    \n",
    "    def _call(self, prompt: str, suffix: str = \"\", stop: Optional[List[str]] = [\"Observation:\"]) -> str:\n",
    "        json_data = {\n",
    "            \"model\": self.model_name,\n",
    "            \"max_tokens\": self.max_tokens,\n",
    "            'prompt': prompt,\n",
    "            'temperature': self.temperature,\n",
    "            \"frequency_penalty\": self.frequency_penalty,\n",
    "            \"presence_penalty\": self.presence_penalty,\n",
    "        }\n",
    "        print(json_data)\n",
    "        response = requests.post(\n",
    "            self.model_url,\n",
    "            headers=VICUNA_HEADER,\n",
    "            json=json_data)\n",
    "        # response.raise_for_status()\n",
    "        print(response.json())\n",
    "        print(response.json()['choices'][0]['text'])\n",
    "        return response.json()['choices'][0]['text']\n"
   ]
  },
  {
   "cell_type": "code",
   "execution_count": 26,
   "metadata": {},
   "outputs": [],
   "source": [
    "llm = VicunaLLM()"
   ]
  },
  {
   "cell_type": "code",
   "execution_count": 27,
   "metadata": {},
   "outputs": [
    {
     "name": "stdout",
     "output_type": "stream",
     "text": [
      "{'model': 'vicuna-13b-v1.5-16k', 'max_tokens': 256, 'prompt': 'Write me a python script that print \"Hello World\"', 'temperature': 0.0, 'frequency_penalty': 0.0, 'presence_penalty': 0.0}\n",
      "{'id': 'cmpl-3h5pqHfTBCNvMUEqsWk6Er', 'object': 'text_completion', 'created': 1698135969, 'model': 'vicuna-13b-v1.5-16k', 'choices': [{'index': 0, 'text': '\\n\\n\\n\\n\\n\\n```\\nprint(\"Hello World\")\\n```\\n\\n\\n```', 'logprobs': None, 'finish_reason': 'stop'}], 'usage': {'prompt_tokens': 12, 'total_tokens': 31, 'completion_tokens': 19}}\n",
      "\n",
      "\n",
      "\n",
      "\n",
      "\n",
      "\n",
      "```\n",
      "print(\"Hello World\")\n",
      "```\n",
      "\n",
      "\n",
      "```\n"
     ]
    }
   ],
   "source": [
    "result = llm.generate(prompts=[prompt])"
   ]
  },
  {
   "cell_type": "code",
   "execution_count": 3,
   "metadata": {},
   "outputs": [
    {
     "data": {
      "text/plain": [
       "{'model_parameters': {'model': 'vicuna-13b-v1.5-16k',\n",
       "  'max_tokens': 256,\n",
       "  'temperature': 0.0,\n",
       "  'frequency_penalty': 0.0,\n",
       "  'presence_penalty': 0.0},\n",
       " '_type': 'vicuna'}"
      ]
     },
     "execution_count": 3,
     "metadata": {},
     "output_type": "execute_result"
    }
   ],
   "source": [
    "llm.dict()"
   ]
  },
  {
   "cell_type": "code",
   "execution_count": 10,
   "metadata": {},
   "outputs": [],
   "source": [
    "import langchain\n",
    "def get_prompts(\n",
    "    params: Dict[str, Any], prompts: List[str]\n",
    "):\n",
    "    \"\"\"Get prompts that are already cached.\"\"\"\n",
    "    llm_string = str(sorted([(k, v) for k, v in params.items()]))\n",
    "    missing_prompts = []\n",
    "    missing_prompt_idxs = []\n",
    "    existing_prompts = {}\n",
    "    for i, prompt in enumerate(prompts):\n",
    "        if langchain.llm_cache is not None:\n",
    "            cache_val = langchain.llm_cache.lookup(prompt, llm_string)\n",
    "            if isinstance(cache_val, list):\n",
    "                existing_prompts[i] = cache_val\n",
    "            else:\n",
    "                missing_prompts.append(prompt)\n",
    "                missing_prompt_idxs.append(i)\n",
    "    return existing_prompts, llm_string, missing_prompt_idxs, missing_prompts"
   ]
  },
  {
   "cell_type": "code",
   "execution_count": 11,
   "metadata": {},
   "outputs": [],
   "source": [
    "params = llm.dict()\n",
    "(\n",
    "    existing_prompts,\n",
    "    llm_string,\n",
    "    missing_prompt_idxs,\n",
    "    missing_prompts,\n",
    ") = get_prompts(params, prompt)"
   ]
  },
  {
   "cell_type": "code",
   "execution_count": 15,
   "metadata": {},
   "outputs": [
    {
     "data": {
      "text/plain": [
       "[]"
      ]
     },
     "execution_count": 15,
     "metadata": {},
     "output_type": "execute_result"
    }
   ],
   "source": [
    "missing_prompts"
   ]
  },
  {
   "cell_type": "code",
   "execution_count": 17,
   "metadata": {},
   "outputs": [
    {
     "data": {
      "text/plain": [
       "{}"
      ]
     },
     "execution_count": 17,
     "metadata": {},
     "output_type": "execute_result"
    }
   ],
   "source": [
    "existing_prompts"
   ]
  },
  {
   "cell_type": "code",
   "execution_count": null,
   "metadata": {},
   "outputs": [],
   "source": []
  }
 ],
 "metadata": {
  "kernelspec": {
   "display_name": "Python 3",
   "language": "python",
   "name": "python3"
  },
  "language_info": {
   "codemirror_mode": {
    "name": "ipython",
    "version": 3
   },
   "file_extension": ".py",
   "mimetype": "text/x-python",
   "name": "python",
   "nbconvert_exporter": "python",
   "pygments_lexer": "ipython3",
   "version": "3.8.5"
  },
  "orig_nbformat": 4
 },
 "nbformat": 4,
 "nbformat_minor": 2
}
