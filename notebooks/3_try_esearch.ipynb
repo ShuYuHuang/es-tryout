{
 "cells": [
  {
   "cell_type": "code",
   "execution_count": 1,
   "metadata": {},
   "outputs": [],
   "source": [
    "from datetime import datetime\n",
    "from elasticsearch import Elasticsearch\n",
    "ELASTIC_SEARCH_SERVER = \"http://10.100.100.104:9200\"\n",
    "db = Elasticsearch(ELASTIC_SEARCH_SERVER, request_timeout=30)"
   ]
  },
  {
   "cell_type": "code",
   "execution_count": 4,
   "metadata": {},
   "outputs": [
    {
     "name": "stdout",
     "output_type": "stream",
     "text": [
      "the indices:\n",
      " ['yellow open test-index 1CQp6Bl4SF6rsDFSw7fgMg 1 1 1 0 5.6kb 5.6kb']\n",
      "is deleted\n"
     ]
    }
   ],
   "source": [
    "# Delete Previous Indices\n",
    "import requests\n",
    "import re\n",
    "\n",
    "# Get Indices\n",
    "responses = requests.get(f\"{ELASTIC_SEARCH_SERVER}/_cat/indices?index\").text.split(\"\\n\")[:-1]\n",
    "print(\"the indices:\\n\",responses)\n",
    "\n",
    "# Delete them\n",
    "for resp in responses:\n",
    "    index = re.split(\" +\",resp)[2]\n",
    "    requests.delete(f\"{ELASTIC_SEARCH_SERVER}/{index}\")\n",
    "print(\"is deleted\")"
   ]
  },
  {
   "cell_type": "code",
   "execution_count": 3,
   "metadata": {},
   "outputs": [
    {
     "name": "stdout",
     "output_type": "stream",
     "text": [
      "created\n"
     ]
    }
   ],
   "source": [
    "doc = {\n",
    "    'author': 'kimchy',\n",
    "    'text': 'Elasticsearch: . bonsai cool.',\n",
    "    'timestamp': datetime.now(),\n",
    "}\n",
    "resp = db.index(index=\"test-index\", id=1, document=doc)\n",
    "print(resp['result'])"
   ]
  },
  {
   "cell_type": "code",
   "execution_count": null,
   "metadata": {},
   "outputs": [],
   "source": [
    "resp = db.get(index=\"test-index\", id=1)\n",
    "print(resp['_source'])"
   ]
  },
  {
   "cell_type": "code",
   "execution_count": null,
   "metadata": {},
   "outputs": [],
   "source": [
    "# db.indices.refresh(index=\"test-index\")\n",
    "\n",
    "resp = db.search(index=\"paragraph-index\", query={\"match_all\": {}})\n",
    "print(\"Got %d Hits:\" % resp['hits']['total']['value'])\n",
    "for hit in resp['hits']['hits']:\n",
    "    print(\"%(timestamp)s %(author)s: %(text)s\" % hit[\"_source\"])"
   ]
  },
  {
   "cell_type": "code",
   "execution_count": null,
   "metadata": {},
   "outputs": [],
   "source": [
    "for hit in resp['hits']['hits']:\n",
    "    print(hit['_source'])"
   ]
  },
  {
   "cell_type": "code",
   "execution_count": null,
   "metadata": {},
   "outputs": [],
   "source": []
  }
 ],
 "metadata": {
  "kernelspec": {
   "display_name": "Python 3",
   "language": "python",
   "name": "python3"
  },
  "language_info": {
   "codemirror_mode": {
    "name": "ipython",
    "version": 3
   },
   "file_extension": ".py",
   "mimetype": "text/x-python",
   "name": "python",
   "nbconvert_exporter": "python",
   "pygments_lexer": "ipython3",
   "version": "3.11.4"
  },
  "orig_nbformat": 4
 },
 "nbformat": 4,
 "nbformat_minor": 2
}
