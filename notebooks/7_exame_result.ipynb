{
 "cells": [
  {
   "cell_type": "code",
   "execution_count": null,
   "metadata": {},
   "outputs": [],
   "source": [
    "a=['Chicken', 'Soy sauce', 'Dry sherry', 'Cornstarch', 'Bell pepper', 'Celery', 'Scallions', 'Garlic', 'Balsamic vinegar', 'Hoisin sauce', 'Sesame oil', 'Sugar', 'Red pepper flakes', 'Ground ginger', 'Water', 'Nuts', 'Rice']\n",
    "b= ['Balsamic vinegar', 'Soy sauce', 'Hoisin sauce', 'Sesame oil', 'Sugar', 'Cornstarch', 'Red pepper flakes', 'Ground ginger', 'Water', 'Sichuan peppercorns', 'Chinese black vinegar', 'Chinese rice wine', 'Whole dried red chilies', 'Nuts']"
   ]
  },
  {
   "cell_type": "code",
   "execution_count": null,
   "metadata": {},
   "outputs": [],
   "source": [
    "set(map(str.lower,a))-set(map(str.lower,b))"
   ]
  },
  {
   "cell_type": "code",
   "execution_count": null,
   "metadata": {},
   "outputs": [],
   "source": [
    "['11. Add the reserved vegetables and reserved chicken to the pan, along with the sauce.\\n\\n12. Reduce the heat to low. Cook until the chicken and vegetables are warmed through and the sauce is thickened, about 30 seconds.\\n\\n13. Stir in the nuts. Taste and adjust seasoning, if necessary, and serve with rice.', '11. Add the reserved vegetables and reserved chicken to the pan, along with the sauce.\\n\\n12. Reduce the heat to low. Cook until the chicken and vegetables are warmed through and the sauce is thickened, about 30 seconds.\\n\\n13. Stir in the nuts. Taste and adjust seasoning, if necessary, and serve with rice.', '11. Add the reserved vegetables and reserved chicken to the pan, along with the sauce.\\n\\n12. Reduce the heat to low. Cook until the chicken and vegetables are warmed through and the sauce is thickened, about 30 seconds.\\n\\n13. Stir in the nuts. Taste and adjust seasoning, if necessary, and serve with rice.', '3. Meanwhile, chop the bell pepper, celery, scallions, and garlic.\\n\\n4. In another medium bowl, prepare the sauce by whisking together all of the sauce ingredients: balsamic vinegar, soy sauce, hoisin sauce, sesame oil, sugar, cornstarch, red pepper flakes, ground ginger, and water.', '3. Meanwhile, chop the bell pepper, celery, scallions, and garlic.\\n\\n4. In another medium bowl, prepare the sauce by whisking together all of the sauce ingredients: balsamic vinegar, soy sauce, hoisin sauce, sesame oil, sugar, cornstarch, red pepper flakes, ground ginger, and water.', '3. Meanwhile, chop the bell pepper, celery, scallions, and garlic.\\n\\n4. In another medium bowl, prepare the sauce by whisking together all of the sauce ingredients: balsamic vinegar, soy sauce, hoisin sauce, sesame oil, sugar, cornstarch, red pepper flakes, ground ginger, and water.']"
   ]
  }
 ],
 "metadata": {
  "language_info": {
   "name": "python"
  },
  "orig_nbformat": 4
 },
 "nbformat": 4,
 "nbformat_minor": 2
}
