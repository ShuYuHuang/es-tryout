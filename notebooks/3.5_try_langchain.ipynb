{
 "cells": [
  {
   "cell_type": "markdown",
   "metadata": {},
   "source": [
    "# Tryout basic chains"
   ]
  },
  {
   "cell_type": "code",
   "execution_count": null,
   "metadata": {},
   "outputs": [],
   "source": [
    "from IPython.display import display, Markdown, JSON\n",
    "import dotenv\n",
    "dotenv.load_dotenv()"
   ]
  },
  {
   "cell_type": "markdown",
   "metadata": {},
   "source": [
    "## Only openai"
   ]
  },
  {
   "cell_type": "code",
   "execution_count": null,
   "metadata": {},
   "outputs": [],
   "source": [
    "import openai\n",
    "messages=[\n",
    "     {\"role\": \"system\", \"content\": \"You are a code expert\"}\n",
    "]\n",
    "\n",
    "conversation_total_tokens = 0\n",
    "while True:\n",
    "    message = input ( \"Human: \")\n",
    "    if message=='exit':\n",
    "        print (f\" {conversation_total_tokens} tokens used in total in this conversation\" )\n",
    "        break\n",
    "    if message:\n",
    "        messages.append(\n",
    "            {\"role\": \"user\" , \"content\": message}\n",
    "        )\n",
    "        response = openai.ChatCompletion.create(\n",
    "            model=\"gpt-3.5-turbo\", messages=messages\n",
    "        )\n",
    "    reply = response.choices[0].message.content\n",
    "    total_tokens = response.usage['total_tokens']\n",
    "    conversation_total_tokens += total_tokens\n",
    "    print (\"ChatGPT:\")\n",
    "    display(Markdown(reply))\n",
    "    print (f\"\\nIn {total_tokens} tokens used\" )\n",
    "    messages. append( {\"role\": \"assistant\", \"content\": reply})"
   ]
  },
  {
   "cell_type": "markdown",
   "metadata": {},
   "source": [
    "## Langchain"
   ]
  },
  {
   "cell_type": "code",
   "execution_count": null,
   "metadata": {},
   "outputs": [],
   "source": [
    "from langchain import PromptTemplate, LLMChain\n",
    "from langchain.prompts import PromptTemplate\n",
    "from langchain.llms import OpenAI, OpenAIChat"
   ]
  },
  {
   "cell_type": "code",
   "execution_count": null,
   "metadata": {},
   "outputs": [],
   "source": [
    "prefix_messages=[\n",
    "     {\"role\": \"system\", \"content\": \"You are a code expert\"}\n",
    "]\n",
    "\n",
    "llm = OpenAIChat(\n",
    "    model_name= 'gpt-3.5-turbo', \n",
    "    temperature=0.0,\n",
    "    prefix_messages=prefix_messages,\n",
    "    max_tokens=256\n",
    ")"
   ]
  },
  {
   "cell_type": "code",
   "execution_count": null,
   "metadata": {},
   "outputs": [],
   "source": [
    "template =\"\"\"\n",
    "You are an expert of cooking and name entity recognition, \n",
    "Identify the following type of contents in the document in JSON format:\n",
    "```\n",
    "TOOL: e.g. pot, spoon\n",
    "INGREDIENT: e.g. mushroom, carrot\n",
    "ACTIONS: e.g. fry\n",
    "```\n",
    "\n",
    "*Example:\n",
    "add a liter of water to the pot, and boil the chicken to 100 degree\n",
    "=>\n",
    "```\n",
    "'TOOL': 'pot',\n",
    "'INGREDIENT': 'water', 'chicken',\n",
    "'ACTIONS': 'boil'\n",
    "```\n",
    "\n",
    "Please transfer the following cookbook:\n",
    "```\n",
    "{input_form}\n",
    "```\n",
    "Return only the JSON format, no other words included\n",
    "\"\"\"\n",
    "\n",
    "prompt = PromptTemplate (\n",
    "    template=template,\n",
    "    input_variables=[\"input_form\"]\n",
    ")"
   ]
  },
  {
   "cell_type": "code",
   "execution_count": null,
   "metadata": {},
   "outputs": [],
   "source": [
    "llm_chain = LLMChain(prompt=prompt, llm=llm)\n",
    "user_input= \"Add the chicken and toss to coat. Let stand at room temperature for 15 minutes, stirring occasionally.\"\n",
    "reply = llm_chain.run(user_input)\n",
    "print(reply)"
   ]
  },
  {
   "cell_type": "markdown",
   "metadata": {},
   "source": [
    "## Knowlege graph memory"
   ]
  },
  {
   "cell_type": "code",
   "execution_count": null,
   "metadata": {},
   "outputs": [],
   "source": [
    "!pip install networkx"
   ]
  },
  {
   "cell_type": "code",
   "execution_count": null,
   "metadata": {},
   "outputs": [],
   "source": [
    "from langchain.chains.conversation.memory import ConversationKGMemory\n",
    "from langchain import OpenAI\n",
    "from langchain.chains import ConversationChain\n",
    "from langchain.prompts.prompt import PromptTemplate\n",
    "\n",
    "llm = OpenAI (\n",
    "    model_name='text-davinci-003',\n",
    "    temperature=0,\n",
    "    max_tokens = 256\n",
    ")\n",
    "\n",
    "template =\"\"\"\n",
    "You are an expert of cooking and name entity recognition, \n",
    "Identify the following type of contents in the document in JSON format:\n",
    "```\n",
    "TOOL: e.g. pot, spoon\n",
    "INGREDIENT: e.g. mushroom, carrot\n",
    "ACTIONS: e.g. fry\n",
    "```\n",
    "\n",
    "*Example:\n",
    "add a liter of water to the pot, and boil the chicken to 100 degree\n",
    "=>\n",
    "```\n",
    "'TOOL': 'pot',\n",
    "'INGREDIENT': 'water', 'chicken',\n",
    "'ACTIONS': 'boil'\n",
    "```\n",
    "\n",
    "Please transfer the following cookbook:\n",
    "```\n",
    "{input}\n",
    "```\n",
    "\n",
    "Relevant Information:\n",
    "```{history}```\n",
    "\n",
    "Merge the TOOL,INGREDIENT,ACTIONS\n",
    "\n",
    "Return only the JSON format, no other words included\n",
    "\"\"\"\n",
    "\n",
    "prompt = PromptTemplate (\n",
    "    template=template,\n",
    "    input_variables=[\"history\",\"input\"]\n",
    ")\n",
    "conversation_with_kg = ConversationChain(\n",
    "    llm=llm,\n",
    "    verbose=True,\n",
    "    prompt=prompt,\n",
    "    memory=ConversationKGMemory(llm=llm)\n",
    ")"
   ]
  },
  {
   "cell_type": "code",
   "execution_count": null,
   "metadata": {},
   "outputs": [],
   "source": [
    "user_input= \"Add the chicken and toss to coat. Let stand at room temperature for 15 minutes, stirring occasionally.\"\n",
    "\n",
    "conversation_with_kg.predict(input=user_input)"
   ]
  },
  {
   "cell_type": "code",
   "execution_count": null,
   "metadata": {},
   "outputs": [],
   "source": [
    "user_input= \"Meanwhile, chop the bell pepper, celery, scallions, and garlic.\"\n",
    "conversation_with_kg.predict(input=user_input)"
   ]
  },
  {
   "cell_type": "code",
   "execution_count": null,
   "metadata": {},
   "outputs": [],
   "source": [
    "print(conversation_with_kg.memory.kg.get_triples ())"
   ]
  },
  {
   "cell_type": "markdown",
   "metadata": {},
   "source": [
    "## EntityMemory"
   ]
  },
  {
   "cell_type": "code",
   "execution_count": null,
   "metadata": {},
   "outputs": [],
   "source": [
    "from langchain import OpenAI, ConversationChain\n",
    "from langchain.chains.conversation.memory import ConversationEntityMemory\n",
    "from langchain.chains.conversation.prompt import ENTITY_MEMORY_CONVERSATION_TEMPLATE"
   ]
  },
  {
   "cell_type": "code",
   "execution_count": null,
   "metadata": {},
   "outputs": [],
   "source": [
    "ENTITY_MEMORY_CONVERSATION_TEMPLATE"
   ]
  },
  {
   "cell_type": "code",
   "execution_count": null,
   "metadata": {},
   "outputs": [],
   "source": [
    "llm = OpenAI(\n",
    "    model_name='text-davinci-003',\n",
    "    temperature=0,\n",
    "    max_tokens = 256\n",
    ")\n",
    "\n",
    "conversation_with_em = ConversationChain(\n",
    "    llm=llm,\n",
    "    verbose=True,\n",
    "    prompt=ENTITY_MEMORY_CONVERSATION_TEMPLATE,\n",
    "    memory=ConversationEntityMemory(llm=llm)\n",
    ")"
   ]
  },
  {
   "cell_type": "code",
   "execution_count": null,
   "metadata": {},
   "outputs": [],
   "source": [
    "conversation_with_em.predict(input=\"Hi I am going to cook GongBao chicken\")"
   ]
  },
  {
   "cell_type": "code",
   "execution_count": null,
   "metadata": {},
   "outputs": [],
   "source": [
    "conversation_with_em.memory.entity_store"
   ]
  },
  {
   "cell_type": "markdown",
   "metadata": {},
   "source": [
    "## Reference\n",
    "- Chat Markup Language:https://github.com/openai/openai-python/blob/main/chatml.md"
   ]
  },
  {
   "cell_type": "markdown",
   "metadata": {},
   "source": []
  }
 ],
 "metadata": {
  "kernelspec": {
   "display_name": ".venv",
   "language": "python",
   "name": "python3"
  },
  "language_info": {
   "codemirror_mode": {
    "name": "ipython",
    "version": 3
   },
   "file_extension": ".py",
   "mimetype": "text/x-python",
   "name": "python",
   "nbconvert_exporter": "python",
   "pygments_lexer": "ipython3",
   "version": "3.9.6"
  },
  "orig_nbformat": 4
 },
 "nbformat": 4,
 "nbformat_minor": 2
}
